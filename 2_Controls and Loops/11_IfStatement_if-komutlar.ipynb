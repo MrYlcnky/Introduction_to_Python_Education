{
 "cells": [
  {
   "cell_type": "code",
   "execution_count": 6,
   "id": "2cf4ffc7",
   "metadata": {},
   "outputs": [
    {
     "name": "stdout",
     "output_type": "stream",
     "text": [
      "3 is greater than 2\n"
     ]
    }
   ],
   "source": [
    "if 3> 2: \n",
    "    print(\"3 is greater than 2\")"
   ]
  },
  {
   "cell_type": "code",
   "execution_count": 7,
   "id": "97a1c91d",
   "metadata": {},
   "outputs": [],
   "source": [
    "x = 4"
   ]
  },
  {
   "cell_type": "code",
   "execution_count": 8,
   "id": "4664b9df",
   "metadata": {},
   "outputs": [],
   "source": [
    "y = 4"
   ]
  },
  {
   "cell_type": "code",
   "execution_count": 9,
   "id": "8bdc5e8a",
   "metadata": {},
   "outputs": [
    {
     "name": "stdout",
     "output_type": "stream",
     "text": [
      "x is y\n"
     ]
    }
   ],
   "source": [
    "if x > y:\n",
    "    print(\"x is greater\")\n",
    "elif x == y:\n",
    "    print(\"x is y\")\n",
    "else:\n",
    "    print(\"y is greater\")"
   ]
  },
  {
   "cell_type": "code",
   "execution_count": 10,
   "id": "3403e4c2",
   "metadata": {},
   "outputs": [
    {
     "name": "stdout",
     "output_type": "stream",
     "text": [
      "superhero: Batman\n"
     ]
    }
   ],
   "source": [
    "my_superhero = input(\"superhero: \")"
   ]
  },
  {
   "cell_type": "code",
   "execution_count": 14,
   "id": "bf9d2566",
   "metadata": {},
   "outputs": [
    {
     "name": "stdout",
     "output_type": "stream",
     "text": [
      "Batmaaaan\n"
     ]
    }
   ],
   "source": [
    "if my_superhero == \"Batman\":\n",
    "    print(\"Batmaaaan\")\n",
    "elif my_superhero == \"Superman\":\n",
    "    print(\"Supermaan\")\n",
    "elif my_superhero == \"Ironman\":\n",
    "    print(\"Ironmaan\")\n",
    "else:\n",
    "    print(\":(\")"
   ]
  },
  {
   "cell_type": "code",
   "execution_count": 15,
   "id": "979b942f",
   "metadata": {},
   "outputs": [],
   "source": [
    "a=10"
   ]
  },
  {
   "cell_type": "code",
   "execution_count": 16,
   "id": "3a7ed110",
   "metadata": {},
   "outputs": [],
   "source": [
    "b=15"
   ]
  },
  {
   "cell_type": "code",
   "execution_count": 17,
   "id": "d2103b3c",
   "metadata": {},
   "outputs": [],
   "source": [
    "c=20"
   ]
  },
  {
   "cell_type": "code",
   "execution_count": 18,
   "id": "674ffefb",
   "metadata": {},
   "outputs": [
    {
     "name": "stdout",
     "output_type": "stream",
     "text": [
      "superman\n"
     ]
    }
   ],
   "source": [
    "if a > b or b < c:\n",
    "    print(\"superman\")\n",
    "elif a<b and b>c:\n",
    "    print(\"batman\")\n",
    "else:\n",
    "    print(\"aquaman\")"
   ]
  },
  {
   "cell_type": "code",
   "execution_count": 21,
   "id": "bf554612",
   "metadata": {},
   "outputs": [],
   "source": [
    "isDead = False"
   ]
  },
  {
   "cell_type": "code",
   "execution_count": 23,
   "id": "dd3cba99",
   "metadata": {},
   "outputs": [
    {
     "name": "stdout",
     "output_type": "stream",
     "text": [
      "character is not dead\n"
     ]
    }
   ],
   "source": [
    "if isDead == False:\n",
    "    print(\"character is not dead\")\n",
    "else:\n",
    "    print(\"character is dead\")"
   ]
  },
  {
   "cell_type": "code",
   "execution_count": 24,
   "id": "e9dbe588",
   "metadata": {},
   "outputs": [
    {
     "name": "stdout",
     "output_type": "stream",
     "text": [
      "character is not dead\n"
     ]
    }
   ],
   "source": [
    "if isDead:\n",
    "    print(\"character is dead\")\n",
    "else:\n",
    "    print(\"character is not dead\")"
   ]
  },
  {
   "cell_type": "code",
   "execution_count": 25,
   "id": "1717ea87",
   "metadata": {},
   "outputs": [
    {
     "name": "stdout",
     "output_type": "stream",
     "text": [
      "Character is not dead\n"
     ]
    }
   ],
   "source": [
    "if not isDead:\n",
    "    print(\"Character is not dead\")"
   ]
  },
  {
   "cell_type": "code",
   "execution_count": 26,
   "id": "e354542e",
   "metadata": {},
   "outputs": [],
   "source": [
    "my_string = \"Hello World\""
   ]
  },
  {
   "cell_type": "code",
   "execution_count": 28,
   "id": "4ba3f075",
   "metadata": {},
   "outputs": [],
   "source": [
    "if my_string == \"hello World\":\n",
    "    print(\"equal\")"
   ]
  },
  {
   "cell_type": "code",
   "execution_count": 29,
   "id": "f0388e41",
   "metadata": {},
   "outputs": [
    {
     "name": "stdout",
     "output_type": "stream",
     "text": [
      "true\n"
     ]
    }
   ],
   "source": [
    "if \"Hello\" in my_string:\n",
    "    print(\"true\")\n",
    "else:\n",
    "    print(\"false\")"
   ]
  },
  {
   "cell_type": "code",
   "execution_count": 30,
   "id": "0a9d26e9",
   "metadata": {},
   "outputs": [],
   "source": [
    "my_list = {1,2,3,4,5}"
   ]
  },
  {
   "cell_type": "code",
   "execution_count": 33,
   "id": "541df50e",
   "metadata": {},
   "outputs": [
    {
     "name": "stdout",
     "output_type": "stream",
     "text": [
      "True\n"
     ]
    }
   ],
   "source": [
    "if 2 in my_list:\n",
    "    print(\"True\")\n",
    "else:\n",
    "    print(\"False\")"
   ]
  },
  {
   "cell_type": "code",
   "execution_count": 34,
   "id": "081ab733",
   "metadata": {},
   "outputs": [],
   "source": [
    "my_dictionary = {\"k1\":100, \"k2\":200, \"k3\":300}"
   ]
  },
  {
   "cell_type": "code",
   "execution_count": 35,
   "id": "6bd15d40",
   "metadata": {},
   "outputs": [
    {
     "name": "stdout",
     "output_type": "stream",
     "text": [
      "False\n"
     ]
    }
   ],
   "source": [
    "if 100 in my_dictionary.keys():\n",
    "    print(\"True\")\n",
    "else:\n",
    "    print(\"False\")"
   ]
  },
  {
   "cell_type": "code",
   "execution_count": 37,
   "id": "7f2a187a",
   "metadata": {},
   "outputs": [
    {
     "name": "stdout",
     "output_type": "stream",
     "text": [
      "True\n"
     ]
    }
   ],
   "source": [
    "if 100 in my_dictionary.values():\n",
    "    print(\"True\")\n",
    "else:\n",
    "    print(\"False\")\n",
    "# 100 values dur key değil !!"
   ]
  },
  {
   "cell_type": "code",
   "execution_count": null,
   "id": "6ad589f7",
   "metadata": {},
   "outputs": [],
   "source": []
  }
 ],
 "metadata": {
  "kernelspec": {
   "display_name": "Python 3 (ipykernel)",
   "language": "python",
   "name": "python3"
  },
  "language_info": {
   "codemirror_mode": {
    "name": "ipython",
    "version": 3
   },
   "file_extension": ".py",
   "mimetype": "text/x-python",
   "name": "python",
   "nbconvert_exporter": "python",
   "pygments_lexer": "ipython3",
   "version": "3.9.7"
  }
 },
 "nbformat": 4,
 "nbformat_minor": 5
}
