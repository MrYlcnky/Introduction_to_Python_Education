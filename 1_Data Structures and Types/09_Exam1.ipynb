{
 "cells": [
  {
   "cell_type": "code",
   "execution_count": null,
   "id": "239a4629",
   "metadata": {},
   "outputs": [],
   "source": [
    "# 1) Aşağıdaki String'in 5. harfini my_letter isimli bir değişkene atayınız."
   ]
  },
  {
   "cell_type": "code",
   "execution_count": 2,
   "id": "349d3ea1",
   "metadata": {},
   "outputs": [],
   "source": [
    "my_string = \"James Hetfield\""
   ]
  },
  {
   "cell_type": "code",
   "execution_count": 3,
   "id": "d4494095",
   "metadata": {},
   "outputs": [],
   "source": [
    "my_letter = my_string[4]"
   ]
  },
  {
   "cell_type": "code",
   "execution_count": 4,
   "id": "e7fb2511",
   "metadata": {},
   "outputs": [
    {
     "data": {
      "text/plain": [
       "'s'"
      ]
     },
     "execution_count": 4,
     "metadata": {},
     "output_type": "execute_result"
    }
   ],
   "source": [
    "my_letter"
   ]
  },
  {
   "cell_type": "code",
   "execution_count": 5,
   "id": "ff7ac787",
   "metadata": {},
   "outputs": [],
   "source": [
    "# Aşağıdaki String'in 5. ve 8. karakteri arasındaki tüm harflerini yazdırınız (5 ve 8 dahil)"
   ]
  },
  {
   "cell_type": "code",
   "execution_count": 6,
   "id": "c2cdafc9",
   "metadata": {},
   "outputs": [],
   "source": [
    "my_new_string = \"QuentinTarantino\""
   ]
  },
  {
   "cell_type": "code",
   "execution_count": 14,
   "id": "646fa0ed",
   "metadata": {},
   "outputs": [
    {
     "data": {
      "text/plain": [
       "'tinT'"
      ]
     },
     "execution_count": 14,
     "metadata": {},
     "output_type": "execute_result"
    }
   ],
   "source": [
    "my_new_string[4:8]"
   ]
  },
  {
   "cell_type": "code",
   "execution_count": 15,
   "id": "bc8bc476",
   "metadata": {},
   "outputs": [],
   "source": [
    "# Aşağıdaki String'i kod ile tersten yazın"
   ]
  },
  {
   "cell_type": "code",
   "execution_count": 16,
   "id": "793f18e7",
   "metadata": {},
   "outputs": [],
   "source": [
    "my_last_string = \"Afyonkarahisarlılaştıramadıklarımızdanmısınız\""
   ]
  },
  {
   "cell_type": "code",
   "execution_count": 30,
   "id": "92bb691c",
   "metadata": {},
   "outputs": [
    {
     "data": {
      "text/plain": [
       "'zınısımnadzımıralkıdamarıtşalılrasiharaknoyfA'"
      ]
     },
     "execution_count": 30,
     "metadata": {},
     "output_type": "execute_result"
    }
   ],
   "source": [
    "my_last_string[::-1]"
   ]
  },
  {
   "cell_type": "markdown",
   "id": "7ce691a4",
   "metadata": {},
   "source": [
    "#Integer & Float"
   ]
  },
  {
   "cell_type": "code",
   "execution_count": 31,
   "id": "8eb0e7f5",
   "metadata": {},
   "outputs": [],
   "source": [
    "# 1) Aşağıdaki işlemin sonucu hangi veri tipinde olacaktır?"
   ]
  },
  {
   "cell_type": "markdown",
   "id": "24cf9c34",
   "metadata": {},
   "source": [
    "3 + 10.2 + 50"
   ]
  },
  {
   "cell_type": "code",
   "execution_count": 32,
   "id": "966c3d23",
   "metadata": {},
   "outputs": [],
   "source": [
    "islem = 3 + 10.2 + 50"
   ]
  },
  {
   "cell_type": "code",
   "execution_count": 33,
   "id": "e148cc5e",
   "metadata": {},
   "outputs": [
    {
     "data": {
      "text/plain": [
       "63.2"
      ]
     },
     "execution_count": 33,
     "metadata": {},
     "output_type": "execute_result"
    }
   ],
   "source": [
    "islem"
   ]
  },
  {
   "cell_type": "code",
   "execution_count": 34,
   "id": "8bd24541",
   "metadata": {},
   "outputs": [
    {
     "data": {
      "text/plain": [
       "float"
      ]
     },
     "execution_count": 34,
     "metadata": {},
     "output_type": "execute_result"
    }
   ],
   "source": [
    "type(islem)"
   ]
  },
  {
   "cell_type": "code",
   "execution_count": 35,
   "id": "ca0a4893",
   "metadata": {},
   "outputs": [],
   "source": [
    "# 2) Aşağıdaki işlemin sonucu kaçtır?"
   ]
  },
  {
   "cell_type": "markdown",
   "id": "c46c4614",
   "metadata": {},
   "source": [
    "5 + 8 * 12"
   ]
  },
  {
   "cell_type": "code",
   "execution_count": 36,
   "id": "7e26b0c7",
   "metadata": {},
   "outputs": [],
   "source": [
    "islem_2 = 5 + 8 * 12"
   ]
  },
  {
   "cell_type": "code",
   "execution_count": 37,
   "id": "3f41d502",
   "metadata": {},
   "outputs": [
    {
     "data": {
      "text/plain": [
       "101"
      ]
     },
     "execution_count": 37,
     "metadata": {},
     "output_type": "execute_result"
    }
   ],
   "source": [
    "islem_2"
   ]
  },
  {
   "cell_type": "markdown",
   "id": "8bebe10c",
   "metadata": {},
   "source": [
    "#List & Dictionary & Set"
   ]
  },
  {
   "cell_type": "code",
   "execution_count": 38,
   "id": "172a7470",
   "metadata": {},
   "outputs": [],
   "source": [
    "# 1) Bu listeyi 3 farklı yoldan oluşturunuz: [1,2,\"a\"]"
   ]
  },
  {
   "cell_type": "code",
   "execution_count": 39,
   "id": "0e56d8dc",
   "metadata": {},
   "outputs": [],
   "source": [
    "list_1 = [1,2,\"a\"]"
   ]
  },
  {
   "cell_type": "code",
   "execution_count": 40,
   "id": "c29fb6e4",
   "metadata": {},
   "outputs": [],
   "source": [
    "list_2 = []"
   ]
  },
  {
   "cell_type": "code",
   "execution_count": 55,
   "id": "ceea3dcf",
   "metadata": {},
   "outputs": [],
   "source": [
    "list_2.append(1)"
   ]
  },
  {
   "cell_type": "code",
   "execution_count": 56,
   "id": "55a34aeb",
   "metadata": {},
   "outputs": [],
   "source": [
    "list_2.append(2)"
   ]
  },
  {
   "cell_type": "code",
   "execution_count": 57,
   "id": "64774973",
   "metadata": {},
   "outputs": [],
   "source": [
    "list_2.append(\"a\")"
   ]
  },
  {
   "cell_type": "code",
   "execution_count": 58,
   "id": "3e3bc3a7",
   "metadata": {},
   "outputs": [
    {
     "data": {
      "text/plain": [
       "[1, 2, 'a']"
      ]
     },
     "execution_count": 58,
     "metadata": {},
     "output_type": "execute_result"
    }
   ],
   "source": [
    "list_2"
   ]
  },
  {
   "cell_type": "code",
   "execution_count": 59,
   "id": "f39b6da7",
   "metadata": {},
   "outputs": [],
   "source": [
    "list_3 = list()"
   ]
  },
  {
   "cell_type": "code",
   "execution_count": 60,
   "id": "d4008855",
   "metadata": {},
   "outputs": [],
   "source": [
    "list_3.append(1)"
   ]
  },
  {
   "cell_type": "code",
   "execution_count": 61,
   "id": "102549bd",
   "metadata": {},
   "outputs": [],
   "source": [
    "list_3.append(2)"
   ]
  },
  {
   "cell_type": "code",
   "execution_count": 62,
   "id": "924dd006",
   "metadata": {},
   "outputs": [],
   "source": [
    "list_3.append(\"a\")"
   ]
  },
  {
   "cell_type": "code",
   "execution_count": 63,
   "id": "c5e2b753",
   "metadata": {},
   "outputs": [
    {
     "data": {
      "text/plain": [
       "[1, 2, 'a']"
      ]
     },
     "execution_count": 63,
     "metadata": {},
     "output_type": "execute_result"
    }
   ],
   "source": [
    "list_3"
   ]
  },
  {
   "cell_type": "code",
   "execution_count": 64,
   "id": "a1d25690",
   "metadata": {},
   "outputs": [],
   "source": [
    "# 2) Aşağıdaki \"a\"'yı tek satırda alınız:"
   ]
  },
  {
   "cell_type": "code",
   "execution_count": 65,
   "id": "bd6ae61e",
   "metadata": {},
   "outputs": [],
   "source": [
    "my_list = [1,4,[2,3,\"a\"]]"
   ]
  },
  {
   "cell_type": "code",
   "execution_count": 66,
   "id": "3ee72fba",
   "metadata": {},
   "outputs": [
    {
     "data": {
      "text/plain": [
       "'a'"
      ]
     },
     "execution_count": 66,
     "metadata": {},
     "output_type": "execute_result"
    }
   ],
   "source": [
    "my_list[2][2]"
   ]
  },
  {
   "cell_type": "code",
   "execution_count": 67,
   "id": "287a0e2d",
   "metadata": {},
   "outputs": [],
   "source": [
    "# 3) Aşağıdaki \"b\"'yi tek satırda alınız:"
   ]
  },
  {
   "cell_type": "code",
   "execution_count": 68,
   "id": "2ccc30b4",
   "metadata": {},
   "outputs": [],
   "source": [
    "my_dictionary = {\"k1\":2, \"kk\":[4,{\"kkkk\":\"b\"}]}"
   ]
  },
  {
   "cell_type": "code",
   "execution_count": 75,
   "id": "3eb3aaf9",
   "metadata": {},
   "outputs": [
    {
     "data": {
      "text/plain": [
       "'b'"
      ]
     },
     "execution_count": 75,
     "metadata": {},
     "output_type": "execute_result"
    }
   ],
   "source": [
    "my_dictionary[\"kk\"][1][\"kkkk\"]"
   ]
  },
  {
   "cell_type": "code",
   "execution_count": 77,
   "id": "1efc18d4",
   "metadata": {},
   "outputs": [],
   "source": [
    "# 4) Aşağıdaki liste set'e çevirilince hangi değerler içinde kalacaktır?"
   ]
  },
  {
   "cell_type": "code",
   "execution_count": 78,
   "id": "09ce4fb8",
   "metadata": {},
   "outputs": [],
   "source": [
    "my_list_to_be_set = [11,12,22,33,11,22,45,32,21,22,33,45]"
   ]
  },
  {
   "cell_type": "code",
   "execution_count": 79,
   "id": "8e4f573e",
   "metadata": {},
   "outputs": [],
   "source": [
    "set_1 = set(my_list_to_be_set)"
   ]
  },
  {
   "cell_type": "code",
   "execution_count": 80,
   "id": "31eb04cf",
   "metadata": {},
   "outputs": [
    {
     "data": {
      "text/plain": [
       "{11, 12, 21, 22, 32, 33, 45}"
      ]
     },
     "execution_count": 80,
     "metadata": {},
     "output_type": "execute_result"
    }
   ],
   "source": [
    "set_1"
   ]
  },
  {
   "cell_type": "markdown",
   "id": "fb8956f4",
   "metadata": {},
   "source": [
    "#Boolean"
   ]
  },
  {
   "cell_type": "code",
   "execution_count": 81,
   "id": "cc922807",
   "metadata": {},
   "outputs": [],
   "source": [
    "# 1) Aşağıdaki ifadenin sonucu ne olacaktır?"
   ]
  },
  {
   "cell_type": "code",
   "execution_count": 85,
   "id": "aa8cb14f",
   "metadata": {},
   "outputs": [],
   "source": [
    "x = 40 * 5 + 3"
   ]
  },
  {
   "cell_type": "code",
   "execution_count": 83,
   "id": "f8c8127f",
   "metadata": {},
   "outputs": [],
   "source": [
    "y = 208 - 2 * 4"
   ]
  },
  {
   "cell_type": "code",
   "execution_count": 86,
   "id": "c186f898",
   "metadata": {},
   "outputs": [
    {
     "data": {
      "text/plain": [
       "203"
      ]
     },
     "execution_count": 86,
     "metadata": {},
     "output_type": "execute_result"
    }
   ],
   "source": [
    "x"
   ]
  },
  {
   "cell_type": "code",
   "execution_count": 87,
   "id": "a701a48f",
   "metadata": {},
   "outputs": [
    {
     "data": {
      "text/plain": [
       "200"
      ]
     },
     "execution_count": 87,
     "metadata": {},
     "output_type": "execute_result"
    }
   ],
   "source": [
    "y"
   ]
  },
  {
   "cell_type": "code",
   "execution_count": 88,
   "id": "5b1e0c38",
   "metadata": {},
   "outputs": [
    {
     "data": {
      "text/plain": [
       "True"
      ]
     },
     "execution_count": 88,
     "metadata": {},
     "output_type": "execute_result"
    }
   ],
   "source": [
    "x > y"
   ]
  },
  {
   "cell_type": "code",
   "execution_count": 89,
   "id": "a0faec31",
   "metadata": {},
   "outputs": [],
   "source": [
    "# 2) Aşağıdaki ifadenin sonucu ne olacaktır?"
   ]
  },
  {
   "cell_type": "code",
   "execution_count": 90,
   "id": "959595d6",
   "metadata": {},
   "outputs": [],
   "source": [
    "a = 40 * (4 - 2)"
   ]
  },
  {
   "cell_type": "code",
   "execution_count": 91,
   "id": "9d6012f2",
   "metadata": {},
   "outputs": [
    {
     "data": {
      "text/plain": [
       "80"
      ]
     },
     "execution_count": 91,
     "metadata": {},
     "output_type": "execute_result"
    }
   ],
   "source": [
    "a"
   ]
  },
  {
   "cell_type": "code",
   "execution_count": 92,
   "id": "c59ccb82",
   "metadata": {},
   "outputs": [],
   "source": [
    "b = 80 - 2 * -5"
   ]
  },
  {
   "cell_type": "code",
   "execution_count": 93,
   "id": "e5c4e9e6",
   "metadata": {},
   "outputs": [
    {
     "data": {
      "text/plain": [
       "90"
      ]
     },
     "execution_count": 93,
     "metadata": {},
     "output_type": "execute_result"
    }
   ],
   "source": [
    "b"
   ]
  },
  {
   "cell_type": "code",
   "execution_count": 94,
   "id": "d7e08a44",
   "metadata": {},
   "outputs": [
    {
     "data": {
      "text/plain": [
       "False"
      ]
     },
     "execution_count": 94,
     "metadata": {},
     "output_type": "execute_result"
    }
   ],
   "source": [
    "a > b"
   ]
  },
  {
   "cell_type": "code",
   "execution_count": null,
   "id": "e4382bd5",
   "metadata": {},
   "outputs": [],
   "source": []
  }
 ],
 "metadata": {
  "kernelspec": {
   "display_name": "Python 3 (ipykernel)",
   "language": "python",
   "name": "python3"
  },
  "language_info": {
   "codemirror_mode": {
    "name": "ipython",
    "version": 3
   },
   "file_extension": ".py",
   "mimetype": "text/x-python",
   "name": "python",
   "nbconvert_exporter": "python",
   "pygments_lexer": "ipython3",
   "version": "3.9.7"
  }
 },
 "nbformat": 4,
 "nbformat_minor": 5
}
