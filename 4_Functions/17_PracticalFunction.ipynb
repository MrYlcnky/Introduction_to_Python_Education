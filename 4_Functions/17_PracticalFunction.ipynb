{
 "cells": [
  {
   "cell_type": "code",
   "execution_count": 1,
   "id": "51098b42",
   "metadata": {},
   "outputs": [],
   "source": [
    "def divide(number):\n",
    "    return number / 2"
   ]
  },
  {
   "cell_type": "code",
   "execution_count": 2,
   "id": "2c85ae4b",
   "metadata": {},
   "outputs": [
    {
     "data": {
      "text/plain": [
       "5.0"
      ]
     },
     "execution_count": 2,
     "metadata": {},
     "output_type": "execute_result"
    }
   ],
   "source": [
    "divide(10)"
   ]
  },
  {
   "cell_type": "code",
   "execution_count": 3,
   "id": "0207a4b6",
   "metadata": {},
   "outputs": [],
   "source": [
    "my_list = [1,2,3,4,5,6,7,8]"
   ]
  },
  {
   "cell_type": "code",
   "execution_count": 9,
   "id": "aa10cf94",
   "metadata": {},
   "outputs": [
    {
     "name": "stdout",
     "output_type": "stream",
     "text": [
      "[0.5, 1.0, 1.5, 2.0, 2.5, 3.0, 3.5, 4.0]\n"
     ]
    }
   ],
   "source": [
    "my_new_list = []\n",
    "for num in my_list:\n",
    "    my_new_list.append(divide(num))\n",
    "print(my_new_list)"
   ]
  },
  {
   "cell_type": "markdown",
   "id": "c269a836",
   "metadata": {},
   "source": [
    "## map"
   ]
  },
  {
   "cell_type": "code",
   "execution_count": 10,
   "id": "b97eb586",
   "metadata": {},
   "outputs": [],
   "source": [
    "my_new_list_2 = list(map(divide,my_list))"
   ]
  },
  {
   "cell_type": "code",
   "execution_count": 11,
   "id": "bf03f122",
   "metadata": {},
   "outputs": [
    {
     "data": {
      "text/plain": [
       "[0.5, 1.0, 1.5, 2.0, 2.5, 3.0, 3.5, 4.0]"
      ]
     },
     "execution_count": 11,
     "metadata": {},
     "output_type": "execute_result"
    }
   ],
   "source": [
    "my_new_list_2"
   ]
  },
  {
   "cell_type": "code",
   "execution_count": 20,
   "id": "af9e90fb",
   "metadata": {},
   "outputs": [],
   "source": [
    "def control_string(string):\n",
    "   # if \"Metallica\" in string: \n",
    "        return \"Metallica\" in string\n",
    "    #    return True"
   ]
  },
  {
   "cell_type": "code",
   "execution_count": 21,
   "id": "9e583230",
   "metadata": {},
   "outputs": [
    {
     "data": {
      "text/plain": [
       "True"
      ]
     },
     "execution_count": 21,
     "metadata": {},
     "output_type": "execute_result"
    }
   ],
   "source": [
    "control_string(\"Metallica sadasd\")"
   ]
  },
  {
   "cell_type": "code",
   "execution_count": 29,
   "id": "cc5a4621",
   "metadata": {},
   "outputs": [],
   "source": [
    "my_artist_list = [\"Metallica\", \"Madonna\", \"Queen\", \"Megadeth\",\"Muslum\", \"Metallica2\", \"metallica3\" ]"
   ]
  },
  {
   "cell_type": "code",
   "execution_count": 30,
   "id": "0c02e040",
   "metadata": {},
   "outputs": [
    {
     "data": {
      "text/plain": [
       "[True, False, False, False, False, True, False]"
      ]
     },
     "execution_count": 30,
     "metadata": {},
     "output_type": "execute_result"
    }
   ],
   "source": [
    "list(map(control_string,my_artist_list))"
   ]
  },
  {
   "cell_type": "markdown",
   "id": "570f6a5d",
   "metadata": {},
   "source": [
    "## Filter"
   ]
  },
  {
   "cell_type": "code",
   "execution_count": 31,
   "id": "24797763",
   "metadata": {},
   "outputs": [
    {
     "data": {
      "text/plain": [
       "['Metallica', 'Metallica2']"
      ]
     },
     "execution_count": 31,
     "metadata": {},
     "output_type": "execute_result"
    }
   ],
   "source": [
    "list(filter(control_string,my_artist_list))"
   ]
  },
  {
   "cell_type": "markdown",
   "id": "a28cb711",
   "metadata": {},
   "source": [
    "## Lambda"
   ]
  },
  {
   "cell_type": "code",
   "execution_count": 39,
   "id": "46ab183c",
   "metadata": {},
   "outputs": [],
   "source": [
    "#def multiply(number):\n",
    " #   return number * 3\n",
    "\n",
    "multiply = lambda number:number * 3"
   ]
  },
  {
   "cell_type": "code",
   "execution_count": 40,
   "id": "6650d5e7",
   "metadata": {},
   "outputs": [
    {
     "data": {
      "text/plain": [
       "15"
      ]
     },
     "execution_count": 40,
     "metadata": {},
     "output_type": "execute_result"
    }
   ],
   "source": [
    "multiply(5)"
   ]
  },
  {
   "cell_type": "code",
   "execution_count": 41,
   "id": "7c5cfd0d",
   "metadata": {},
   "outputs": [],
   "source": [
    "my_list_3 = [3,5,7,9]"
   ]
  },
  {
   "cell_type": "code",
   "execution_count": 42,
   "id": "5443695e",
   "metadata": {},
   "outputs": [
    {
     "data": {
      "text/plain": [
       "[12, 20, 28, 36]"
      ]
     },
     "execution_count": 42,
     "metadata": {},
     "output_type": "execute_result"
    }
   ],
   "source": [
    "list(map(lambda num:num*4,my_list_3))"
   ]
  },
  {
   "cell_type": "code",
   "execution_count": null,
   "id": "9a163685",
   "metadata": {},
   "outputs": [],
   "source": []
  }
 ],
 "metadata": {
  "kernelspec": {
   "display_name": "Python 3 (ipykernel)",
   "language": "python",
   "name": "python3"
  },
  "language_info": {
   "codemirror_mode": {
    "name": "ipython",
    "version": 3
   },
   "file_extension": ".py",
   "mimetype": "text/x-python",
   "name": "python",
   "nbconvert_exporter": "python",
   "pygments_lexer": "ipython3",
   "version": "3.9.7"
  }
 },
 "nbformat": 4,
 "nbformat_minor": 5
}
