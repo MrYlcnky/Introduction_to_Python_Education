{
 "cells": [
  {
   "cell_type": "code",
   "execution_count": 1,
   "id": "d9a82a34",
   "metadata": {},
   "outputs": [],
   "source": [
    "my_list = [1,2,3,4,5,6,7]"
   ]
  },
  {
   "cell_type": "code",
   "execution_count": 2,
   "id": "f2e2578d",
   "metadata": {},
   "outputs": [
    {
     "name": "stdout",
     "output_type": "stream",
     "text": [
      "1\n",
      "2\n",
      "3\n",
      "4\n",
      "5\n",
      "6\n",
      "7\n"
     ]
    }
   ],
   "source": [
    "for number in my_list:\n",
    "    print(number)"
   ]
  },
  {
   "cell_type": "markdown",
   "id": "6f67fa77",
   "metadata": {},
   "source": [
    "## Range"
   ]
  },
  {
   "cell_type": "code",
   "execution_count": 3,
   "id": "a98cf2e8",
   "metadata": {},
   "outputs": [
    {
     "data": {
      "text/plain": [
       "range(0, 20)"
      ]
     },
     "execution_count": 3,
     "metadata": {},
     "output_type": "execute_result"
    }
   ],
   "source": [
    "range(20)"
   ]
  },
  {
   "cell_type": "code",
   "execution_count": 4,
   "id": "2bcda0bd",
   "metadata": {},
   "outputs": [
    {
     "data": {
      "text/plain": [
       "[0, 1, 2, 3, 4, 5, 6, 7, 8, 9, 10, 11, 12, 13, 14, 15, 16, 17, 18, 19]"
      ]
     },
     "execution_count": 4,
     "metadata": {},
     "output_type": "execute_result"
    }
   ],
   "source": [
    "list(range(20))"
   ]
  },
  {
   "cell_type": "code",
   "execution_count": 5,
   "id": "ce57ca3e",
   "metadata": {},
   "outputs": [
    {
     "name": "stdout",
     "output_type": "stream",
     "text": [
      "0\n",
      "5\n",
      "10\n",
      "15\n",
      "20\n",
      "25\n",
      "30\n",
      "35\n",
      "40\n",
      "45\n",
      "50\n",
      "55\n",
      "60\n",
      "65\n",
      "70\n",
      "75\n",
      "80\n",
      "85\n",
      "90\n",
      "95\n"
     ]
    }
   ],
   "source": [
    "for number in list(range(20)):\n",
    "    print(number * 5)"
   ]
  },
  {
   "cell_type": "code",
   "execution_count": 8,
   "id": "2e329099",
   "metadata": {},
   "outputs": [
    {
     "name": "stdout",
     "output_type": "stream",
     "text": [
      "5\n",
      "6\n",
      "7\n",
      "8\n",
      "9\n",
      "10\n",
      "11\n",
      "12\n",
      "13\n",
      "14\n",
      "15\n",
      "16\n",
      "17\n",
      "18\n",
      "19\n"
     ]
    }
   ],
   "source": [
    "for num in list(range(5,20)):\n",
    "    print(num)"
   ]
  },
  {
   "cell_type": "code",
   "execution_count": 9,
   "id": "cfd6c7b3",
   "metadata": {},
   "outputs": [
    {
     "name": "stdout",
     "output_type": "stream",
     "text": [
      "5\n",
      "8\n",
      "11\n",
      "14\n",
      "17\n"
     ]
    }
   ],
   "source": [
    "for num in list(range(5,20,3)):\n",
    "    print(num)"
   ]
  },
  {
   "cell_type": "markdown",
   "id": "6d83f9a8",
   "metadata": {},
   "source": [
    "## enumerate"
   ]
  },
  {
   "cell_type": "code",
   "execution_count": 14,
   "id": "38e889e9",
   "metadata": {},
   "outputs": [
    {
     "name": "stdout",
     "output_type": "stream",
     "text": [
      "no:  5  ix: 0\n",
      "no:  6  ix: 1\n",
      "no:  7  ix: 2\n",
      "no:  8  ix: 3\n",
      "no:  9  ix: 4\n",
      "no:  10  ix: 5\n",
      "no:  11  ix: 6\n",
      "no:  12  ix: 7\n",
      "no:  13  ix: 8\n",
      "no:  14  ix: 9\n"
     ]
    }
   ],
   "source": [
    "index = 0\n",
    "for number in list(range(5,15)):\n",
    "    print(f\"no:  {number}  ix: {index}\")\n",
    "    index += 1"
   ]
  },
  {
   "cell_type": "code",
   "execution_count": 16,
   "id": "9fb2fb73",
   "metadata": {},
   "outputs": [
    {
     "name": "stdout",
     "output_type": "stream",
     "text": [
      "(0, 5)\n",
      "(1, 6)\n",
      "(2, 7)\n",
      "(3, 8)\n",
      "(4, 9)\n",
      "(5, 10)\n",
      "(6, 11)\n",
      "(7, 12)\n",
      "(8, 13)\n",
      "(9, 14)\n"
     ]
    }
   ],
   "source": [
    "for element in enumerate(list(range(5,15))):\n",
    "    print(element)"
   ]
  },
  {
   "cell_type": "code",
   "execution_count": 21,
   "id": "b9908023",
   "metadata": {},
   "outputs": [
    {
     "name": "stdout",
     "output_type": "stream",
     "text": [
      "0\n",
      "5\n",
      "1\n",
      "6\n",
      "2\n",
      "7\n",
      "3\n",
      "8\n",
      "4\n",
      "9\n",
      "5\n",
      "10\n",
      "6\n",
      "11\n",
      "7\n",
      "12\n",
      "8\n",
      "13\n",
      "9\n",
      "14\n"
     ]
    }
   ],
   "source": [
    "for (index,number) in enumerate(list(range(5,15))):\n",
    "    print(index)\n",
    "    print(number)"
   ]
  },
  {
   "cell_type": "markdown",
   "id": "f4ed5e15",
   "metadata": {},
   "source": [
    "## Random"
   ]
  },
  {
   "cell_type": "code",
   "execution_count": 11,
   "id": "47554aa9",
   "metadata": {},
   "outputs": [],
   "source": [
    "from random import randint # randint rastgele sayı "
   ]
  },
  {
   "cell_type": "code",
   "execution_count": 14,
   "id": "6b7f0df7",
   "metadata": {},
   "outputs": [
    {
     "data": {
      "text/plain": [
       "165"
      ]
     },
     "execution_count": 14,
     "metadata": {},
     "output_type": "execute_result"
    }
   ],
   "source": [
    "randint(1,1000)"
   ]
  },
  {
   "cell_type": "code",
   "execution_count": 24,
   "id": "e35b5dbd",
   "metadata": {},
   "outputs": [
    {
     "data": {
      "text/plain": [
       "341"
      ]
     },
     "execution_count": 24,
     "metadata": {},
     "output_type": "execute_result"
    }
   ],
   "source": [
    "randint(0,1000)"
   ]
  },
  {
   "cell_type": "code",
   "execution_count": 25,
   "id": "d0f92090",
   "metadata": {},
   "outputs": [],
   "source": [
    "my_list_2 = list(range(0,10))"
   ]
  },
  {
   "cell_type": "code",
   "execution_count": 26,
   "id": "9d1be2a7",
   "metadata": {},
   "outputs": [
    {
     "data": {
      "text/plain": [
       "[0, 1, 2, 3, 4, 5, 6, 7, 8, 9]"
      ]
     },
     "execution_count": 26,
     "metadata": {},
     "output_type": "execute_result"
    }
   ],
   "source": [
    "my_list_2"
   ]
  },
  {
   "cell_type": "code",
   "execution_count": 27,
   "id": "517ba1ff",
   "metadata": {},
   "outputs": [],
   "source": [
    "from random import shuffle # shuffle listenin içindekileri karıştırır."
   ]
  },
  {
   "cell_type": "code",
   "execution_count": 31,
   "id": "9b4d3095",
   "metadata": {},
   "outputs": [],
   "source": [
    "shuffle(my_list_2)"
   ]
  },
  {
   "cell_type": "code",
   "execution_count": 32,
   "id": "05dc2e22",
   "metadata": {},
   "outputs": [
    {
     "data": {
      "text/plain": [
       "[6, 1, 0, 2, 7, 8, 3, 9, 5, 4]"
      ]
     },
     "execution_count": 32,
     "metadata": {},
     "output_type": "execute_result"
    }
   ],
   "source": [
    "my_list_2"
   ]
  },
  {
   "cell_type": "markdown",
   "id": "7783a68a",
   "metadata": {},
   "source": [
    "## Zip"
   ]
  },
  {
   "cell_type": "code",
   "execution_count": 33,
   "id": "8e314c00",
   "metadata": {},
   "outputs": [],
   "source": [
    "sport_list = [\"run\",\"swim\",\"baketball\"]"
   ]
  },
  {
   "cell_type": "code",
   "execution_count": 34,
   "id": "036d99a7",
   "metadata": {},
   "outputs": [],
   "source": [
    "calories_list = [100,200,300]"
   ]
  },
  {
   "cell_type": "code",
   "execution_count": 35,
   "id": "627fae44",
   "metadata": {},
   "outputs": [],
   "source": [
    "day_list = [\"monday\",\"tuesday\",\"wednesday\"]"
   ]
  },
  {
   "cell_type": "code",
   "execution_count": 39,
   "id": "e4a233f7",
   "metadata": {},
   "outputs": [],
   "source": [
    "new_list = list(zip(sport_list,calories_list,day_list))"
   ]
  },
  {
   "cell_type": "code",
   "execution_count": 40,
   "id": "bd4b6cc3",
   "metadata": {},
   "outputs": [
    {
     "data": {
      "text/plain": [
       "[('run', 100, 'monday'),\n",
       " ('swim', 200, 'tuesday'),\n",
       " ('baketball', 300, 'wednesday')]"
      ]
     },
     "execution_count": 40,
     "metadata": {},
     "output_type": "execute_result"
    }
   ],
   "source": [
    "new_list"
   ]
  },
  {
   "cell_type": "code",
   "execution_count": 41,
   "id": "7344bc55",
   "metadata": {},
   "outputs": [
    {
     "name": "stdout",
     "output_type": "stream",
     "text": [
      "('run', 100, 'monday')\n",
      "('swim', 200, 'tuesday')\n",
      "('baketball', 300, 'wednesday')\n"
     ]
    }
   ],
   "source": [
    "for element in new_list:\n",
    "    print(element)"
   ]
  },
  {
   "cell_type": "markdown",
   "id": "f37cec22",
   "metadata": {},
   "source": [
    "## List Advanced"
   ]
  },
  {
   "cell_type": "code",
   "execution_count": 46,
   "id": "232bb2c4",
   "metadata": {},
   "outputs": [],
   "source": [
    "new_list = []\n",
    "my_string = \"metallica\"\n",
    "\n",
    "for element in my_string:\n",
    "    new_list.append(element)"
   ]
  },
  {
   "cell_type": "code",
   "execution_count": 47,
   "id": "77c8b78b",
   "metadata": {},
   "outputs": [
    {
     "data": {
      "text/plain": [
       "['m', 'e', 't', 'a', 'l', 'l', 'i', 'c', 'a']"
      ]
     },
     "execution_count": 47,
     "metadata": {},
     "output_type": "execute_result"
    }
   ],
   "source": [
    "new_list"
   ]
  },
  {
   "cell_type": "code",
   "execution_count": 48,
   "id": "f1f00b43",
   "metadata": {},
   "outputs": [],
   "source": [
    "new_list = [element for element in my_string]"
   ]
  },
  {
   "cell_type": "code",
   "execution_count": 49,
   "id": "fc35c893",
   "metadata": {},
   "outputs": [
    {
     "data": {
      "text/plain": [
       "['m', 'e', 't', 'a', 'l', 'l', 'i', 'c', 'a']"
      ]
     },
     "execution_count": 49,
     "metadata": {},
     "output_type": "execute_result"
    }
   ],
   "source": [
    "new_list"
   ]
  },
  {
   "cell_type": "code",
   "execution_count": 52,
   "id": "8e64add7",
   "metadata": {},
   "outputs": [],
   "source": [
    "new_list_2 = [number*5 for number in list(range(0,10))]"
   ]
  },
  {
   "cell_type": "code",
   "execution_count": 53,
   "id": "f96b94a3",
   "metadata": {},
   "outputs": [
    {
     "data": {
      "text/plain": [
       "[0, 5, 10, 15, 20, 25, 30, 35, 40, 45]"
      ]
     },
     "execution_count": 53,
     "metadata": {},
     "output_type": "execute_result"
    }
   ],
   "source": [
    "new_list_2"
   ]
  },
  {
   "cell_type": "code",
   "execution_count": null,
   "id": "010e59c8",
   "metadata": {},
   "outputs": [],
   "source": []
  }
 ],
 "metadata": {
  "kernelspec": {
   "display_name": "Python 3 (ipykernel)",
   "language": "python",
   "name": "python3"
  },
  "language_info": {
   "codemirror_mode": {
    "name": "ipython",
    "version": 3
   },
   "file_extension": ".py",
   "mimetype": "text/x-python",
   "name": "python",
   "nbconvert_exporter": "python",
   "pygments_lexer": "ipython3",
   "version": "3.9.7"
  }
 },
 "nbformat": 4,
 "nbformat_minor": 5
}
